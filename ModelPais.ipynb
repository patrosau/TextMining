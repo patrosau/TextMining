{
 "cells": [
  {
   "cell_type": "code",
   "execution_count": 2,
   "metadata": {
    "collapsed": true
   },
   "outputs": [],
   "source": [
    "classlabel = {'argentina' : 0,\n",
    "                'chile' : 1,\n",
    "                'colombia' : 2,\n",
    "                'espana' : 3,\n",
    "                'mexico' : 4,\n",
    "                'peru' : 5,\n",
    "                'venezuela' : 6\n",
    "}\n",
    "    "
   ]
  },
  {
   "cell_type": "code",
   "execution_count": 3,
   "metadata": {
    "collapsed": false
   },
   "outputs": [
    {
     "data": {
      "text/plain": [
       "0"
      ]
     },
     "execution_count": 3,
     "metadata": {},
     "output_type": "execute_result"
    }
   ],
   "source": [
    "classlabel['argentina']"
   ]
  },
  {
   "cell_type": "code",
   "execution_count": 4,
   "metadata": {
    "collapsed": false
   },
   "outputs": [],
   "source": [
    "import numpy\n",
    "\n",
    "def readData(fileName):\n",
    "    \n",
    "    X = None\n",
    "    Y = None\n",
    "\n",
    "    with open(fileName) as file:\n",
    "        for line in file:\n",
    "            values = line.split(',')\n",
    "            x = numpy.array(values[1:len(values) - 2], 'int32')\n",
    "            y = classlabel[values[len(values) - 1].rstrip()]\n",
    "            \n",
    "            if X is None :\n",
    "                X = x\n",
    "                Y = y\n",
    "            else:\n",
    "                X = numpy.vstack( [X, x] )\n",
    "                Y = numpy.hstack( [Y, y] )\n",
    "    return X, Y"
   ]
  },
  {
   "cell_type": "code",
   "execution_count": 5,
   "metadata": {
    "collapsed": false
   },
   "outputs": [],
   "source": [
    "X_train, Y_train = readData('/home/patrosau@alumno.upv.es/Descargas/hispatweets/trainingdata.txt')"
   ]
  },
  {
   "cell_type": "code",
   "execution_count": 6,
   "metadata": {
    "collapsed": true
   },
   "outputs": [],
   "source": [
    "X_test, Y_test = readData('/home/patrosau@alumno.upv.es/Descargas/hispatweets/testdata.txt')"
   ]
  },
  {
   "cell_type": "code",
   "execution_count": 7,
   "metadata": {
    "collapsed": false
   },
   "outputs": [
    {
     "name": "stdout",
     "output_type": "stream",
     "text": [
      "94.0659340659\n"
     ]
    }
   ],
   "source": [
    "from sklearn import svm\n",
    "\n",
    "classifier = svm.SVC( max_iter=10000,\n",
    "                      verbose=False )\n",
    "classifier.fit( X_train, Y_train )\n",
    "y_pred = classifier.predict( X_test )\n",
    "\n",
    "accuracy = ( 100.0 * (Y_test == y_pred).sum() ) / len(Y_test)\n",
    "\n",
    "print (accuracy)"
   ]
  },
  {
   "cell_type": "code",
   "execution_count": 9,
   "metadata": {
    "collapsed": false
   },
   "outputs": [],
   "source": [
    "import pickle\n",
    "\n",
    "# save the model to disk\n",
    "filename = 'country_model.sav'\n",
    "pickle.dump(classifier, open(filename, 'wb'))"
   ]
  },
  {
   "cell_type": "code",
   "execution_count": null,
   "metadata": {
    "collapsed": true
   },
   "outputs": [],
   "source": []
  }
 ],
 "metadata": {
  "kernelspec": {
   "display_name": "Python 3",
   "language": "python",
   "name": "python3"
  },
  "language_info": {
   "codemirror_mode": {
    "name": "ipython",
    "version": 3
   },
   "file_extension": ".py",
   "mimetype": "text/x-python",
   "name": "python",
   "nbconvert_exporter": "python",
   "pygments_lexer": "ipython3",
   "version": "3.5.1"
  }
 },
 "nbformat": 4,
 "nbformat_minor": 0
}
