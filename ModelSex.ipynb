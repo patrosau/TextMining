{
 "cells": [
  {
   "cell_type": "code",
   "execution_count": 21,
   "metadata": {
    "collapsed": true
   },
   "outputs": [],
   "source": [
    "classlabel = {'UNKNOWN' : 0,\n",
    "                'female' : 1,\n",
    "                'male' : 2\n",
    "}"
   ]
  },
  {
   "cell_type": "code",
   "execution_count": null,
   "metadata": {
    "collapsed": true
   },
   "outputs": [],
   "source": []
  },
  {
   "cell_type": "code",
   "execution_count": 22,
   "metadata": {
    "collapsed": true
   },
   "outputs": [],
   "source": [
    "import numpy\n",
    "\n",
    "def readData(fileName):\n",
    "    \n",
    "    X = None\n",
    "    Y = None\n",
    "\n",
    "    with open(fileName) as file:\n",
    "        for line in file:\n",
    "            values = line.split(',')\n",
    "            if (values[0] != '\\n'):\n",
    "                x = numpy.array(values[1:len(values) - 2], 'float32')\n",
    "                y = classlabel[values[len(values) - 1].rstrip()]\n",
    "\n",
    "                if X is None :\n",
    "                    X = x\n",
    "                    Y = y\n",
    "                else:\n",
    "                    X = numpy.vstack( [X, x] )\n",
    "                    Y = numpy.hstack( [Y, y] )\n",
    "    return X, Y"
   ]
  },
  {
   "cell_type": "code",
   "execution_count": 23,
   "metadata": {
    "collapsed": false
   },
   "outputs": [],
   "source": [
    "X_train, Y_train = readData('/home/patrosau@alumno.upv.es/Descargas/hispatweets/sexmergetrainingdata.txt')"
   ]
  },
  {
   "cell_type": "code",
   "execution_count": 24,
   "metadata": {
    "collapsed": true
   },
   "outputs": [],
   "source": [
    "X_test, Y_test = readData('/home/patrosau@alumno.upv.es/Descargas/hispatweets/sexmergetestdata.txt')"
   ]
  },
  {
   "cell_type": "code",
   "execution_count": 25,
   "metadata": {
    "collapsed": false
   },
   "outputs": [
    {
     "name": "stdout",
     "output_type": "stream",
     "text": [
      "50.8791208791\n"
     ]
    }
   ],
   "source": [
    "from sklearn import svm\n",
    "\n",
    "classifier = svm.SVC( max_iter=10000,\n",
    "                      verbose=False )\n",
    "classifier.fit( X_train, Y_train )\n",
    "y_pred = classifier.predict( X_test )\n",
    "\n",
    "accuracy = ( 100.0 * (Y_test == y_pred).sum() ) / len(Y_test)\n",
    "\n",
    "print (accuracy)"
   ]
  },
  {
   "cell_type": "code",
   "execution_count": 26,
   "metadata": {
    "collapsed": false
   },
   "outputs": [
    {
     "name": "stdout",
     "output_type": "stream",
     "text": [
      "46.9230769231\n"
     ]
    }
   ],
   "source": [
    "from sklearn.neighbors import KNeighborsClassifier\n",
    "\n",
    "classifier = KNeighborsClassifier( n_neighbors=10, weights='uniform' )\n",
    "classifier.fit( X_train, Y_train )\n",
    "y_pred = classifier.predict( X_test )\n",
    "\n",
    "accuracy = ( 100.0 * (Y_test == y_pred).sum() ) / len(Y_test)\n",
    "\n",
    "print (accuracy)"
   ]
  },
  {
   "cell_type": "code",
   "execution_count": null,
   "metadata": {
    "collapsed": true
   },
   "outputs": [],
   "source": [
    "import pickle\n",
    "\n",
    "# save the model to disk\n",
    "filename = 'sex_model.sav'\n",
    "pickle.dump(classifier, open(filename, 'wb'))"
   ]
  }
 ],
 "metadata": {
  "kernelspec": {
   "display_name": "Python 3",
   "language": "python",
   "name": "python3"
  },
  "language_info": {
   "codemirror_mode": {
    "name": "ipython",
    "version": 3
   },
   "file_extension": ".py",
   "mimetype": "text/x-python",
   "name": "python",
   "nbconvert_exporter": "python",
   "pygments_lexer": "ipython3",
   "version": "3.5.1"
  }
 },
 "nbformat": 4,
 "nbformat_minor": 0
}
